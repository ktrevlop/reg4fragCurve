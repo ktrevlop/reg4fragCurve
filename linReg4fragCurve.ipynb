{
 "cells": [
  {
   "cell_type": "code",
   "execution_count": 1,
   "id": "bb1772bb",
   "metadata": {},
   "outputs": [
    {
     "data": {
      "text/plain": [
       "<matplotlib.legend.Legend at 0x25bf2bf6430>"
      ]
     },
     "execution_count": 1,
     "metadata": {},
     "output_type": "execute_result"
    },
    {
     "data": {
      "image/png": "[encoded data removed]",
      "text/plain": [
       "<Figure size 432x288 with 1 Axes>"
      ]
     },
     "metadata": {
      "needs_background": "light"
     },
     "output_type": "display_data"
    }
   ],
   "source": [
    "# -*- coding: utf-8 -*-\n",
    "\"\"\"\n",
    "K. Trevlopoulos\n",
    "July 2021\n",
    "\n",
    "This script computes a fragility curves based on linear regression on a cloud\n",
    "of data, which are found in .csv files.\n",
    "\n",
    "The script was written using Spyder 4.2.5 and Python 3.8.8 as installed by\n",
    "Anaconda3-2021.05-Windows-x86_64\n",
    "\n",
    "\"\"\"\n",
    "\n",
    "import numpy as np\n",
    "from scipy.stats import norm\n",
    "import matplotlib.pyplot as plt\n",
    "\n",
    "# Enther the threshold (h) of the damage state\n",
    "threshold = 0.02;\n",
    "# Enter the file names containing the IMs and the EDPs\n",
    "im = np.genfromtxt('IM.csv', delimiter=',');\n",
    "edp = np.genfromtxt('EDP.csv', delimiter=',');\n",
    "\n",
    "# # Draw a random sample from the data\n",
    "# # Enter the randomization seed. Change it to get a different sample\n",
    "# rng = np.random.default_rng(12345)\n",
    "# # Enter the size of the sample\n",
    "# rints = rng.integers(low=0, high=(len(im)-1), size=50)\n",
    "# im=im[rints]\n",
    "# edp=edp[rints]\n",
    "\n",
    "# Enther the minimum and maximum IM value for the for which the fragilit curve\n",
    "# will be computed\n",
    "minIM4fragCurve = 0.1; # enter a value higher than zero\n",
    "maxIM4fragCurve = 9.9;\n",
    "# Enther the number of points that will be used to discretize the fragility\n",
    "# curve\n",
    "noPoints4fragCurve = 99;\n",
    "\n",
    "# A constant step for the IMs is used\n",
    "imStep = (maxIM4fragCurve-minIM4fragCurve)/(noPoints4fragCurve-1)\n",
    "# The IMs for which the fragility curve will be computed\n",
    "ims4fragCurve = np.arange(minIM4fragCurve, maxIM4fragCurve+imStep, imStep);\n",
    "\n",
    "# Linear regression on a cloud of points\n",
    "logIM = np.log(im);\n",
    "logEDP = np.log(edp);\n",
    "# Adjust a linear model to the data in the log-log space\n",
    "p = np.polyfit(logIM, logEDP, 1);\n",
    "# The linear model\n",
    "logEDPlinModel = p[1].copy() + p[0].copy()* logIM.copy();\n",
    "# The residuals\n",
    "epsilon = logEDP.copy() - logEDPlinModel.copy();\n",
    "\n",
    "# Plot the data and the linear model\n",
    "fig1, ax1 = plt.subplots()\n",
    "ax1.set_xscale('log')\n",
    "ax1.set_yscale('log')\n",
    "# ax.axis([0,10,0,1.0]) # define the limits of the axes\n",
    "ax1.grid(True)\n",
    "ax1.plot(im, edp, linestyle='', color=(0,0,1),\n",
    "         marker='.', markeredgecolor=(0,0,0), markerfacecolor=(0,0,0),\n",
    "         markersize='4', label='Data')\n",
    "ax1.plot(im, np.exp(logEDPlinModel), linestyle='-', color=(0,0,1),\n",
    "         marker='', markeredgecolor=(0,0,0), markerfacecolor=(0,0,0),\n",
    "         markersize='4', label='Linear Model')\n",
    "ax1.set_xlabel('IM')\n",
    "ax1.set_ylabel('EDP')\n",
    "ax1.set_title(\"Data\")\n",
    "ax1.legend()"
   ]
  },
  {
   "cell_type": "markdown",
   "id": "bfcb8a98",
   "metadata": {},
   "source": [
    "The lognormal CDF curve, which is used to model the fragility curve, is definded by the follwing equation:\n",
    "\n",
    "$$\n",
    "F_X(x) = \\Phi( \\frac{(lnx) - \\mu}{\\sigma} )\n",
    "$$\n"
   ]
  },
  {
   "cell_type": "code",
   "execution_count": 2,
   "id": "ad0fc2a4",
   "metadata": {},
   "outputs": [
    {
     "data": {
      "text/plain": [
       "<matplotlib.legend.Legend at 0x25bf2e0c670>"
      ]
     },
     "execution_count": 2,
     "metadata": {},
     "output_type": "execute_result"
    },
    {
     "data": {
      "image/png": "[encoded data removed]",
      "text/plain": [
       "<Figure size 432x288 with 1 Axes>"
      ]
     },
     "metadata": {
      "needs_background": "light"
     },
     "output_type": "display_data"
    }
   ],
   "source": [
    "# The median and the dispersion of the fragility curve\n",
    "median = np.exp( ( np.log(threshold) - p[1].copy() ) / p[0].copy() );\n",
    "dispersion = np.std( epsilon.copy() ) ;\n",
    "# The fragility curve\n",
    "fragCurve = norm.cdf( np.log(ims4fragCurve), np.log(median), dispersion);\n",
    "\n",
    "# Plot the fragility curve\n",
    "fig2, ax2 = plt.subplots()\n",
    "# ax.axis([0,10,0,1.0]) # define the limits of the axes\n",
    "ax2.grid(True)\n",
    "ax2.plot(ims4fragCurve, fragCurve, linestyle='-', color=(0,0,1),\n",
    "         marker='', markeredgecolor=(0,0,0), markerfacecolor=(0,0,0),\n",
    "         markersize='4', label='Lognormal Curve')\n",
    "ax2.set_xlabel('IM')\n",
    "ax2.set_ylabel('P( EDP > h | IM )') # where h is the damage state threshold\n",
    "ax2.set_title(\"Fragility Curve\")\n",
    "ax2.legend()"
   ]
  },
  {
   "cell_type": "code",
   "execution_count": null,
   "id": "eaef91a2",
   "metadata": {},
   "outputs": [],
   "source": []
  }
 ],
 "metadata": {
  "kernelspec": {
   "display_name": "Python 3",
   "language": "python",
   "name": "python3"
  },
  "language_info": {
   "codemirror_mode": {
    "name": "ipython",
    "version": 3
   },
   "file_extension": ".py",
   "mimetype": "text/x-python",
   "name": "python",
   "nbconvert_exporter": "python",
   "pygments_lexer": "ipython3",
   "version": "3.8.8"
  }
 },
 "nbformat": 4,
 "nbformat_minor": 5
}
